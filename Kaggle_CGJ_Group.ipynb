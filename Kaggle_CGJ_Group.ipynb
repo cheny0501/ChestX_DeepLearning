{
  "cells": [
    {
      "cell_type": "markdown",
      "metadata": {
        "id": "ISpiw8kyz79N"
      },
      "source": [
        "# Convolutional Neural Networks\n",
        "\n",
        "## Project: Chest X-Ray Classification (Pneumonia vs Normal) \n",
        "\n",
        "---\n",
        "\n",
        "### Instructions\n",
        "For better understanding in this notebook some template code is already provided, and you will need to implement some additional functionalities to successfully complete this project.\n",
        "\n",
        "> **Note for Implementation:** Sections that have **'IMPLEMENTATION'** heading, indicates that the following block needs implementations. Instructions details are provided for each implementation block and `To-DO` statments are also provided in the code cell. Before Starting to implement the functionality please read the instrcutions carefully and Pleaase do not modify or remove the template code!\n",
        "\n",
        "---\n",
        "### Project Description \n",
        "\n",
        "In this notebook, you will be implememnting a Convolutional Neural Network (CNN) model. You will go through different stages of data pre-processing and you will explore different methods by which we can implement a CNN model. \n",
        "\n",
        "The notebook is divided into following parts:\n",
        "\n",
        "* Section 1: Import Dataset\n",
        "* Section 2: Data Analysis & Pre-processing\n",
        "* Section 3: Data Augumentation\n",
        "* Section 4: Develop a CNN to Classify Chest X-Ray (from Scratch)\n",
        "* Section 5: Develop a CNN to Classify Chest X-Ray (using Transfer Learning)\n",
        "* Section 6: Comparison of CNN Models\n",
        "* Section 7: Testing the best CNN Model\n",
        "\n",
        "---\n",
        "## Section 1: Import Dataset\n",
        "\n",
        "### Chest X-Ray Dataset\n",
        "\n",
        "For this project, we will be using [Chest X-Ray Images Dataset](https://www.kaggle.com/competitions/bst-261-pneumonia-chest-x-ray-classification/data), which you can find on the Kaggle competition set up for the course. This dataset consists of `5,863` X-Ray images and provides two classes of images (Normal and Pneumonia).\n",
        "\n",
        "In the cells below, first we have imported the important libraries that will be useful throughout the notebook, we also have some constant variables like `DATASET_PATH, and IMG_CLASSES`. \n",
        "\n",
        "We also have a function `load_sample_imgs` which is used to load a sample training data, by which we can visualize the sample images for each class."
      ]
    },
    {
      "cell_type": "code",
      "source": [
        "from google.colab import drive\n",
        "drive.mount('/content/drive')"
      ],
      "metadata": {
        "colab": {
          "base_uri": "https://localhost:8080/"
        },
        "id": "Dd5QwgvIoJjU",
        "outputId": "43df6655-7e1f-4ee7-e362-a5afbb930bf2"
      },
      "execution_count": null,
      "outputs": [
        {
          "output_type": "stream",
          "name": "stdout",
          "text": [
            "Mounted at /content/drive\n"
          ]
        }
      ]
    },
    {
      "cell_type": "code",
      "source": [
        "import os\n",
        "os.chdir('/content/drive/MyDrive')"
      ],
      "metadata": {
        "id": "eEMnpUNkoQf9"
      },
      "execution_count": null,
      "outputs": []
    },
    {
      "cell_type": "markdown",
      "source": [
        "Get data from Kaggle."
      ],
      "metadata": {
        "id": "feBnOXATRrCn"
      }
    },
    {
      "cell_type": "code",
      "source": [
        "import re\n",
        "import os\n",
        "import numpy as np\n",
        "import pandas as pd\n",
        "import tensorflow as tf\n",
        "import matplotlib.pyplot as plt\n",
        "from sklearn.model_selection import train_test_split\n",
        "\n",
        "try:\n",
        "    tpu = tf.distribute.cluster_resolver.TPUClusterResolver()\n",
        "    print('Device:', tpu.master())\n",
        "    tf.config.experimental_connect_to_cluster(tpu)\n",
        "    tf.tpu.experimental.initialize_tpu_system(tpu)\n",
        "    strategy = tf.distribute.experimental.TPUStrategy(tpu)\n",
        "except:\n",
        "    strategy = tf.distribute.get_strategy()\n",
        "print('Number of replicas:', strategy.num_replicas_in_sync)\n",
        "    \n",
        "print(tf.__version__)"
      ],
      "metadata": {
        "id": "620tUekKRV8j"
      },
      "execution_count": null,
      "outputs": []
    },
    {
      "cell_type": "code",
      "source": [
        "! pip install -q kaggle"
      ],
      "metadata": {
        "id": "TMgGS7EzRX9f"
      },
      "execution_count": null,
      "outputs": []
    },
    {
      "cell_type": "code",
      "source": [
        "from google.colab import files\n",
        "\n",
        "files.upload()"
      ],
      "metadata": {
        "id": "vHtvdn7rRbHd"
      },
      "execution_count": null,
      "outputs": []
    },
    {
      "cell_type": "code",
      "source": [
        "! mkdir ~/.kaggle\n",
        "! cp kaggle.json ~/.kaggle/"
      ],
      "metadata": {
        "id": "j6leOEzgRdZR"
      },
      "execution_count": null,
      "outputs": []
    },
    {
      "cell_type": "code",
      "source": [
        "! chmod 600 ~/.kaggle/kaggle.json"
      ],
      "metadata": {
        "id": "3k7e9bPIRf7a"
      },
      "execution_count": null,
      "outputs": []
    },
    {
      "cell_type": "code",
      "source": [
        "! kaggle competitions download -c bst-261-pneumonia-chest-x-ray-classification"
      ],
      "metadata": {
        "id": "FstbdtHCRhXX"
      },
      "execution_count": null,
      "outputs": []
    },
    {
      "cell_type": "code",
      "source": [
        "! mkdir chest_xray"
      ],
      "metadata": {
        "id": "dY22OsN9RlCJ"
      },
      "execution_count": null,
      "outputs": []
    },
    {
      "cell_type": "code",
      "source": [
        "! unzip bst-261-pneumonia-chest-x-ray-classification.zip -d chest_xray"
      ],
      "metadata": {
        "id": "W0pHmPwSRmp0"
      },
      "execution_count": null,
      "outputs": []
    },
    {
      "cell_type": "code",
      "execution_count": null,
      "metadata": {
        "execution": {
          "iopub.execute_input": "2023-03-12T19:33:33.331123Z",
          "iopub.status.busy": "2023-03-12T19:33:33.330506Z",
          "iopub.status.idle": "2023-03-12T19:33:33.487698Z",
          "shell.execute_reply": "2023-03-12T19:33:33.486676Z",
          "shell.execute_reply.started": "2023-03-12T19:33:33.331079Z"
        },
        "id": "NTdiz_Unz79P"
      },
      "outputs": [],
      "source": [
        "import os\n",
        "import cv2\n",
        "import numpy as np\n",
        "import pandas as pd\n",
        "import matplotlib.pyplot as plt\n",
        "\n",
        "# Downloaded Dataset Path (in google drive)\n",
        "DATASET_PATH = \"./chest_xray\"\n",
        "IMG_CLASSES = ['NORMAL', 'PNEUMONIA']\n",
        "\n",
        "def load_sample_imgs(path):\n",
        "    imgs = []\n",
        "    for cls in IMG_CLASSES:\n",
        "        dir_path = os.path.join(path, cls)\n",
        "        img_name = os.listdir(dir_path)[0]\n",
        "        img = cv2.imread(os.path.join(dir_path, img_name))\n",
        "        cls_index = IMG_CLASSES.index(cls)\n",
        "        imgs.append([img, cls_index])\n",
        "    \n",
        "    return imgs"
      ]
    },
    {
      "cell_type": "code",
      "execution_count": null,
      "metadata": {
        "execution": {
          "iopub.execute_input": "2023-03-12T19:33:33.490082Z",
          "iopub.status.busy": "2023-03-12T19:33:33.489671Z",
          "iopub.status.idle": "2023-03-12T19:33:34.162870Z",
          "shell.execute_reply": "2023-03-12T19:33:34.161778Z",
          "shell.execute_reply.started": "2023-03-12T19:33:33.490042Z"
        },
        "id": "BDR6jdZdz79P",
        "colab": {
          "base_uri": "https://localhost:8080/",
          "height": 343
        },
        "outputId": "2dddc393-966a-4020-bd30-ae453b9b7c54"
      },
      "outputs": [
        {
          "output_type": "display_data",
          "data": {
            "text/plain": [
              "<Figure size 800x400 with 2 Axes>"
            ],
            "image/png": "[encoded data removed]"
          },
          "metadata": {}
        }
      ],
      "source": [
        "sample_imgs = load_sample_imgs(os.path.join(DATASET_PATH, 'train'))\n",
        "fig, ax = plt.subplots(ncols=2, figsize=(8, 4))\n",
        "\n",
        "plt.suptitle('Sample Training Images of Chest X-Ray', fontsize=16, y=0.95)\n",
        "\n",
        "for index in range(2):\n",
        "    img, cls_index = sample_imgs[index]\n",
        "    ax[index].imshow(img)\n",
        "    ax[index].set_xticks([])             \n",
        "    ax[index].set_yticks([])\n",
        "    ax[index].set_xlabel(IMG_CLASSES[cls_index])\n",
        "    ax[index].spines['top'].set_visible(False)\n",
        "    ax[index].spines['right'].set_visible(False)        \n",
        "    ax[index].spines['left'].set_visible(False)                \n",
        "    ax[index].spines['bottom'].set_visible(False)                \n",
        "\n",
        "plt.show()"
      ]
    },
    {
      "cell_type": "markdown",
      "metadata": {
        "id": "TQ402Os-z79Q"
      },
      "source": [
        "In the figure above, we can see the visualization of sample training images for each class.\n",
        "\n",
        "> **Note:** While loading the sample image data, we have loaded the data in format [image, cls_index]. This is one of the many approaches by which we can load the complete dataset in a structured manner.\n",
        "\n",
        "### IMPLEMENTATION\n",
        "\n",
        "While visualizing the sample images, we can see that both images are not of same size, it means in the dataset all the images are of not same size. In the cell below you can see a constant variable **IMG_SIZE**, this varaible will be used throughout the notebook and will represent the size of images in the dataset. **Do a research and choose an appropriate Image Size for the images.**\n",
        "\n",
        "Now we will load the whole dataset. We know that the dataset is divided into three different subsets: `Training, Validation and Testing`. **So in the code cell below you will need to complete the implementation of the function which will be used to load the dataset for given path, and while loading the dataset resize the images according to the Image size that you have selected**. \n",
        "\n",
        "> **Note:** Use the same data loading structure that have been used while loading the sample data."
      ]
    },
    {
      "cell_type": "code",
      "source": [
        "# Visulize imaging attribute distribution"
      ],
      "metadata": {
        "id": "1syDEy8RSBwu"
      },
      "execution_count": null,
      "outputs": []
    },
    {
      "cell_type": "code",
      "source": [
        "DPATH = \"/content/drive/MyDrive/chest_xray/train/NORMAL\"\n",
        "height = []\n",
        "width = []\n",
        "image_list = os.listdir(DPATH)\n",
        "\n",
        "for img_name in image_list:\n",
        "    img_path = os.path.join(DPATH, img_name)\n",
        "    img = cv2.imread(img_path)\n",
        "\n",
        "    if img is not None:\n",
        "        height.append(img.shape[0])\n",
        "        width.append(img.shape[1])\n"
      ],
      "metadata": {
        "id": "qEkKfJ_zSNDJ"
      },
      "execution_count": null,
      "outputs": []
    },
    {
      "cell_type": "code",
      "source": [
        "DPATH = \"/content/drive/MyDrive/chest_xray/train/PNEUMONIA\"\n",
        "heights = []\n",
        "widths = []\n",
        "image_list = os.listdir(DPATH)\n",
        "\n",
        "for img_name in image_list:\n",
        "    img_path = os.path.join(DPATH, img_name)\n",
        "    img = cv2.imread(img_path)\n",
        "\n",
        "    if img is not None:\n",
        "        heights.append(img.shape[0])\n",
        "        widths.append(img.shape[1])"
      ],
      "metadata": {
        "id": "44uokFCzSPea"
      },
      "execution_count": null,
      "outputs": []
    },
    {
      "cell_type": "code",
      "source": [
        "plt.hist(height, bins=20, color='blue', edgecolor='black')\n",
        "plt.xlabel('Height')\n",
        "plt.ylabel('Frequency')\n",
        "plt.title('Height Distribution')\n",
        "plt.show()"
      ],
      "metadata": {
        "id": "fInt_9igSRY3"
      },
      "execution_count": null,
      "outputs": []
    },
    {
      "cell_type": "code",
      "source": [
        "plt.hist(width, bins=20, color='blue', edgecolor='black')\n",
        "plt.xlabel('Width')\n",
        "plt.ylabel('Frequency')\n",
        "plt.title('Width Distribution')\n",
        "plt.show()"
      ],
      "metadata": {
        "id": "rr1ZnMJESTAM"
      },
      "execution_count": null,
      "outputs": []
    },
    {
      "cell_type": "code",
      "source": [
        "plt.hist(heights, bins=20, color='blue', edgecolor='black')\n",
        "plt.xlabel('Height')\n",
        "plt.ylabel('Frequency')\n",
        "plt.title('Height Distribution')\n",
        "plt.show()"
      ],
      "metadata": {
        "id": "5obfEe1bSUm7"
      },
      "execution_count": null,
      "outputs": []
    },
    {
      "cell_type": "code",
      "source": [
        "heights_np = np.array(height)\n",
        "\n",
        "mean = np.mean(heights_np)\n",
        "median = np.median(heights_np)\n",
        "std_dev = np.std(heights_np)\n",
        "minimum = np.min(heights_np)\n",
        "maximum = np.max(heights_np)\n",
        "q1 = np.percentile(heights_np, 25)\n",
        "q3 = np.percentile(heights_np, 75)\n",
        "\n",
        "print(\"Mean height:\", mean)\n",
        "print(\"Median height:\", median)\n",
        "print(\"Standard deviation:\", std_dev)\n",
        "print(\"Minimum height:\", minimum)\n",
        "print(\"Maximum height:\", maximum)\n",
        "print(\"1st quartile (Q1):\", q1)\n",
        "print(\"3rd quartile (Q3):\", q3)"
      ],
      "metadata": {
        "id": "wtYyX_yFSWjy"
      },
      "execution_count": null,
      "outputs": []
    },
    {
      "cell_type": "code",
      "source": [
        "heights_np = np.array(width)\n",
        "\n",
        "mean = np.mean(heights_np)\n",
        "median = np.median(heights_np)\n",
        "std_dev = np.std(heights_np)\n",
        "minimum = np.min(heights_np)\n",
        "maximum = np.max(heights_np)\n",
        "q1 = np.percentile(heights_np, 25)\n",
        "q3 = np.percentile(heights_np, 75)\n",
        "\n",
        "print(\"Mean height:\", mean)\n",
        "print(\"Median height:\", median)\n",
        "print(\"Standard deviation:\", std_dev)\n",
        "print(\"Minimum height:\", minimum)\n",
        "print(\"Maximum height:\", maximum)\n",
        "print(\"1st quartile (Q1):\", q1)\n",
        "print(\"3rd quartile (Q3):\", q3)"
      ],
      "metadata": {
        "id": "S7huJuvGSeym"
      },
      "execution_count": null,
      "outputs": []
    },
    {
      "cell_type": "code",
      "source": [
        "heights_np = np.array(heights)\n",
        "\n",
        "mean = np.mean(heights_np)\n",
        "median = np.median(heights_np)\n",
        "std_dev = np.std(heights_np)\n",
        "minimum = np.min(heights_np)\n",
        "maximum = np.max(heights_np)\n",
        "q1 = np.percentile(heights_np, 25)\n",
        "q3 = np.percentile(heights_np, 75)\n",
        "\n",
        "print(\"Mean height:\", mean)\n",
        "print(\"Median height:\", median)\n",
        "print(\"Standard deviation:\", std_dev)\n",
        "print(\"Minimum height:\", minimum)\n",
        "print(\"Maximum height:\", maximum)\n",
        "print(\"1st quartile (Q1):\", q1)\n",
        "print(\"3rd quartile (Q3):\", q3)"
      ],
      "metadata": {
        "id": "PEyXl3S2Sgxu"
      },
      "execution_count": null,
      "outputs": []
    },
    {
      "cell_type": "code",
      "source": [
        "heights_np = np.array(widths)\n",
        "\n",
        "mean = np.mean(heights_np)\n",
        "median = np.median(heights_np)\n",
        "std_dev = np.std(heights_np)\n",
        "minimum = np.min(heights_np)\n",
        "maximum = np.max(heights_np)\n",
        "q1 = np.percentile(heights_np, 25)\n",
        "q3 = np.percentile(heights_np, 75)\n",
        "\n",
        "print(\"Mean height:\", mean)\n",
        "print(\"Median height:\", median)\n",
        "print(\"Standard deviation:\", std_dev)\n",
        "print(\"Minimum height:\", minimum)\n",
        "print(\"Maximum height:\", maximum)\n",
        "print(\"1st quartile (Q1):\", q1)\n",
        "print(\"3rd quartile (Q3):\", q3)"
      ],
      "metadata": {
        "id": "3G-c1qntSoqZ"
      },
      "execution_count": null,
      "outputs": []
    },
    {
      "cell_type": "code",
      "execution_count": null,
      "metadata": {
        "execution": {
          "iopub.execute_input": "2023-03-12T19:34:12.451268Z",
          "iopub.status.busy": "2023-03-12T19:34:12.450158Z",
          "iopub.status.idle": "2023-03-12T19:34:12.460332Z",
          "shell.execute_reply": "2023-03-12T19:34:12.459412Z",
          "shell.execute_reply.started": "2023-03-12T19:34:12.451221Z"
        },
        "id": "3wwmJ_yJz79Q"
      },
      "outputs": [],
      "source": [
        "##### IMPORTANT ######\n",
        "# We got our final predication using 400 image size\n",
        "# Limited by RAM, we have to use 224 image size here to run all model without system crush to show comparision plot\n",
        "######################\n",
        "img_size = 224\n",
        "def load_data(data_dir):\n",
        "    data = [] \n",
        "    for label in IMG_CLASSES: \n",
        "        path = os.path.join(data_dir, label)\n",
        "        class_num = IMG_CLASSES.index(label)\n",
        "        for img in os.listdir(path):\n",
        "            try:\n",
        "                img_arr = cv2.imread(os.path.join(path, img), cv2.IMREAD_COLOR)\n",
        "                resized_arr = cv2.resize(img_arr, (img_size, img_size)) # Reshaping images to preferred size\n",
        "                data.append([resized_arr, class_num])\n",
        "            except Exception as e:\n",
        "                print(e)\n",
        "    return np.array(data)"
      ]
    },
    {
      "cell_type": "markdown",
      "metadata": {
        "id": "VGIhNbYOz79Q"
      },
      "source": [
        "Now after developing the data loading function, we will read the `Training` and `Validation` datasets. For now we will not going to load the `Testing` dataset because it will be used in the end to test the CNN models."
      ]
    },
    {
      "cell_type": "code",
      "execution_count": null,
      "metadata": {
        "execution": {
          "iopub.execute_input": "2023-03-12T19:34:14.068108Z",
          "iopub.status.busy": "2023-03-12T19:34:14.067154Z",
          "iopub.status.idle": "2023-03-12T19:35:43.848521Z",
          "shell.execute_reply": "2023-03-12T19:35:43.847403Z",
          "shell.execute_reply.started": "2023-03-12T19:34:14.068053Z"
        },
        "id": "AoHczjHEz79R"
      },
      "outputs": [],
      "source": [
        "train_data = load_data(os.path.join(DATASET_PATH, 'train'))\n",
        "valid_data = load_data(os.path.join(DATASET_PATH, 'val'))\n",
        "\n",
        "# print number of images in each dataset\n",
        "print(f'There are {len(train_data)} Training Images.')\n",
        "print(f'There are {len(valid_data)} Validation Images.')"
      ]
    },
    {
      "cell_type": "markdown",
      "metadata": {
        "id": "E7a2fbRsz79R"
      },
      "source": [
        "We can see that we don't have a good amount of data for validation set, so now we need to combine both datasets, then split into training and testing sets. \n",
        "\n",
        "\n",
        "### IMPLEMENTATION\n",
        "**In the cell below, first combine both sets, then split into training and validation sets. (80% for Training, 20% for Validation)**"
      ]
    },
    {
      "cell_type": "code",
      "execution_count": null,
      "metadata": {
        "execution": {
          "iopub.execute_input": "2023-03-12T19:35:43.851193Z",
          "iopub.status.busy": "2023-03-12T19:35:43.850770Z",
          "iopub.status.idle": "2023-03-12T19:35:44.181799Z",
          "shell.execute_reply": "2023-03-12T19:35:44.180661Z",
          "shell.execute_reply.started": "2023-03-12T19:35:43.851121Z"
        },
        "id": "7-svW_Prz79R"
      },
      "outputs": [],
      "source": [
        "from sklearn.model_selection import train_test_split\n",
        "combined_data = np.concatenate((train_data, valid_data), axis=0)\n",
        "train_data, valid_data = train_test_split(combined_data, test_size=0.2, random_state=42)\n",
        "\n",
        "# print number of images in each dataset\n",
        "print(f'There are {len(train_data)} Training Images.')\n",
        "print(f'There are {len(valid_data)} Validation Images.')"
      ]
    },
    {
      "cell_type": "markdown",
      "metadata": {
        "id": "QwghpLDHz79R"
      },
      "source": [
        "---\n",
        "## Section 2: Data Pre-processing\n",
        "\n",
        "Before starting to train the Deep Learning model we need to setup the dataset for best possible results. In our case as we are working with images the first thing to note is the size of all the images in the dataset and then we can move forward with all other techniques.\n",
        "\n",
        "In our case as we have already setup the constant value for the size of all the images in the dataset so we don't need to worry about the size of the images in the dataset. Now we have multiple other steps that we need to take, first we will going to split the features and labels from the dataset that we have prepared early.\n",
        "\n",
        "### Implementation\n",
        "In the function below provide the code to split the features and labels into their seperate lists and then return the numpy arrays for each one of them."
      ]
    },
    {
      "cell_type": "markdown",
      "metadata": {
        "id": "WdrbPRfJz79R"
      },
      "source": [
        "Now as the function is ready to be used, so we will going to use the function to split features and labels from the dataset. First we will going to call the function for training dataset and then for validation dataset."
      ]
    },
    {
      "cell_type": "code",
      "source": [
        "### We didn't use function but use this way to achieve same goal\n",
        "X_train = np.array([x[0] for x in train_data])\n",
        "y_train = np.array([x[1] for x in train_data])\n",
        "\n",
        "X_valid = np.array([x[0] for x in valid_data])\n",
        "y_valid = np.array([x[1] for x in valid_data])"
      ],
      "metadata": {
        "id": "uQeesh-mTxIC"
      },
      "execution_count": null,
      "outputs": []
    },
    {
      "cell_type": "markdown",
      "metadata": {
        "id": "TzO4tptIz79S"
      },
      "source": [
        "When using TensorFlow as backend, Keras CNNs require a 4D array (which we'll also refer to as a 4D tensor) as input, with shape\n",
        "\n",
        "$$\n",
        "(\\text{number_of_samples}, \\text{image_height}, \\text{image_width}, \\text{channels}),\n",
        "$$\n",
        "\n",
        "where `number_of_samples` corresponds to the total number of images (or samples), and `image_height`, `image_width`, and `channels` correspond to the each image height, width, and channels.\n",
        "\n",
        "By the running the cell below, we can check the tensor size of our training and validation data. First we will going to check the size of features and then we will move with labels/classes. "
      ]
    },
    {
      "cell_type": "code",
      "execution_count": null,
      "metadata": {
        "execution": {
          "iopub.execute_input": "2023-03-12T19:35:44.437679Z",
          "iopub.status.busy": "2023-03-12T19:35:44.437269Z",
          "iopub.status.idle": "2023-03-12T19:35:44.445044Z",
          "shell.execute_reply": "2023-03-12T19:35:44.443772Z",
          "shell.execute_reply.started": "2023-03-12T19:35:44.437639Z"
        },
        "id": "gDMa6Yxoz79S"
      },
      "outputs": [],
      "source": [
        "print(f'Training Features Tensor Shape: {x_train.shape}')\n",
        "print(f'Validation Features Tensor Shape: {x_valid.shape}')\n",
        "print('\\n')\n",
        "print(f'Training Labels Tensor Shape: {y_train.shape}')\n",
        "print(f'Validation Labels Tensor Shape: {y_valid.shape}')"
      ]
    },
    {
      "cell_type": "markdown",
      "source": [
        "### OVERSAMPLING\n",
        "After a lot of exploration and comparision, we found the imbalanced dataset problem and our models perform better in oversampling data. Thus, we added this part to add 2000 data by data augmentation to minority class to get around 3000:3000 balanced data."
      ],
      "metadata": {
        "id": "ZhPHwSR8VPzf"
      }
    },
    {
      "cell_type": "code",
      "source": [
        "import numpy as np\n",
        "from collections import Counter\n",
        "from keras.preprocessing.image import ImageDataGenerator\n",
        "\n",
        "# Identify the minority class\n",
        "class_counts = Counter(y_train)\n",
        "minority_class = min(class_counts, key=class_counts.get)\n",
        "\n",
        "# Separate the images of the minority class\n",
        "X_train_minority = X_train[y_train == minority_class]"
      ],
      "metadata": {
        "id": "oRLsYfFkVsd6"
      },
      "execution_count": null,
      "outputs": []
    },
    {
      "cell_type": "code",
      "source": [
        "# Define the data augmentation parameters\n",
        "data_gen_args = dict(rotation_range=10,\n",
        "                     width_shift_range=0.1,\n",
        "                     height_shift_range=0.1,\n",
        "                     zoom_range=[0.9, 1.1],\n",
        "                     horizontal_flip=False, ###############\n",
        "                     vertical_flip=False,\n",
        "                     fill_mode='reflect',\n",
        "                     data_format='channels_last')\n",
        "\n",
        "# Create the ImageDataGenerator\n",
        "image_datagen = ImageDataGenerator(**data_gen_args)\n",
        "\n",
        "# Define the number of new samples you want to generate for the minority class\n",
        "num_new_samples = 2000\n",
        "augmented_images = []\n",
        "augmented_labels = []\n",
        "\n",
        "# Generate new samples using the ImageDataGenerator\n",
        "for _ in range(num_new_samples):\n",
        "    index = np.random.randint(0, len(X_train_minority))\n",
        "    img = X_train_minority[index]\n",
        "    img_augmented = image_datagen.random_transform(img)\n",
        "    augmented_images.append(img_augmented)\n",
        "    augmented_labels.append(minority_class)\n",
        "\n",
        "# Convert the lists to numpy arrays\n",
        "augmented_images = np.array(augmented_images)\n",
        "augmented_labels = np.array(augmented_labels)\n",
        "\n",
        "# Concatenate the original and augmented data\n",
        "X_train_balanced = np.concatenate((X_train, augmented_images), axis=0)\n",
        "y_train_balanced = np.concatenate((y_train, augmented_labels), axis=0)"
      ],
      "metadata": {
        "id": "peoFwHX_VuPO"
      },
      "execution_count": null,
      "outputs": []
    },
    {
      "cell_type": "code",
      "source": [
        "X_train = X_train_balanced\n",
        "y_train = y_train_balanced"
      ],
      "metadata": {
        "id": "a5CC4IBBV14I"
      },
      "execution_count": null,
      "outputs": []
    },
    {
      "cell_type": "markdown",
      "metadata": {
        "id": "D7jNlnoRz79S"
      },
      "source": [
        "### IMPLEMENTATION\n",
        "For training and validation labels, we can see that we have tensors of shape `(200,)` and `(16,)`, which means we have a 1-D tensor. This is a binary dataset, which means we just have 2 classes in the dataset. For the better performance of the model we can use `One-Hot-Encoding` technique to One Hot Encode the labels, this is not a necessary step while working with Binary Classification data, but this is a cruicial step for Multi-Class Classification and that is why we also need to learn this step.\n",
        "\n",
        "In the cell below you can implement the functionality to One-Hot Encode the labels of the dataset."
      ]
    },
    {
      "cell_type": "code",
      "source": [
        "# Convert labels to sequential integers\n",
        "# Some models need this part to work\n",
        "'''\n",
        "unique_labels = np.unique(y_train)\n",
        "label_map = {label: idx for idx, label in enumerate(unique_labels)}\n",
        "y_train = np.array([label_map[label] for label in y_train])\n",
        "y_valid = np.array([label_map[label] for label in y_valid])\n",
        "'''"
      ],
      "metadata": {
        "id": "KV6HLOp_V62C"
      },
      "execution_count": null,
      "outputs": []
    },
    {
      "cell_type": "code",
      "execution_count": null,
      "metadata": {
        "execution": {
          "iopub.execute_input": "2023-03-12T19:35:44.447627Z",
          "iopub.status.busy": "2023-03-12T19:35:44.446729Z",
          "iopub.status.idle": "2023-03-12T19:35:51.129128Z",
          "shell.execute_reply": "2023-03-12T19:35:51.128038Z",
          "shell.execute_reply.started": "2023-03-12T19:35:44.447589Z"
        },
        "id": "-FMN8aNhz79S"
      },
      "outputs": [],
      "source": [
        "from keras.utils import to_categorical\n",
        "\n",
        "# One-hot encoding for training and validation labels\n",
        "y_train = to_categorical(y_train)\n",
        "y_valid = to_categorical(y_valid)"
      ]
    },
    {
      "cell_type": "code",
      "source": [
        "# rescale validation data\n",
        "X_valid = X_valid.astype(\"float64\")/255.0"
      ],
      "metadata": {
        "id": "-ixsxK1OWA1_"
      },
      "execution_count": null,
      "outputs": []
    },
    {
      "cell_type": "markdown",
      "metadata": {
        "id": "KuvbTvJKz79S"
      },
      "source": [
        "Now after implementing the `One-Hot Encoding` functionality we can again check the shape of the labels."
      ]
    },
    {
      "cell_type": "code",
      "execution_count": null,
      "metadata": {
        "execution": {
          "iopub.execute_input": "2023-03-12T19:35:51.134405Z",
          "iopub.status.busy": "2023-03-12T19:35:51.132589Z",
          "iopub.status.idle": "2023-03-12T19:35:51.140581Z",
          "shell.execute_reply": "2023-03-12T19:35:51.139433Z",
          "shell.execute_reply.started": "2023-03-12T19:35:51.134358Z"
        },
        "id": "1UgJmfoSz79S"
      },
      "outputs": [],
      "source": [
        "print(f'Training Labels Tensor Shape: {y_train.shape}')\n",
        "print(f'Validation Labels Tensor Shape: {y_valid.shape}')"
      ]
    },
    {
      "cell_type": "markdown",
      "metadata": {
        "id": "TFmCLNVtz79S"
      },
      "source": [
        "Now we have setup the features and labels of the dataset, let's explore the data a bit more and let us visualize the channels of the images. We know that the data is in `3 Channels` which means that the images in the dataset are having `Reg, Blue and Green` color channel which is also known as `RGB`. By running the cell below, we can visualize the image in each color channel. "
      ]
    },
    {
      "cell_type": "code",
      "execution_count": null,
      "metadata": {
        "execution": {
          "iopub.execute_input": "2023-03-12T19:35:51.143008Z",
          "iopub.status.busy": "2023-03-12T19:35:51.142429Z",
          "iopub.status.idle": "2023-03-12T19:35:51.931527Z",
          "shell.execute_reply": "2023-03-12T19:35:51.930550Z",
          "shell.execute_reply.started": "2023-03-12T19:35:51.142970Z"
        },
        "id": "BkK_AC07z79T"
      },
      "outputs": [],
      "source": [
        "image = x_train[0]\n",
        "\n",
        "# plotting the original image and the RGB channels\n",
        "f, (ax1, ax2, ax3, ax4) = plt.subplots(1, 4, sharey=True)\n",
        "f.set_figwidth(15)\n",
        "ax1.imshow(image)\n",
        "\n",
        "# RGB channels\n",
        "# CHANNELID : 0 for Red, 1 for Green, 2 for Blue. \n",
        "ax2.imshow(image[:, : , 0]) #Red\n",
        "ax3.imshow(image[:, : , 1]) #Green\n",
        "ax4.imshow(image[:, : , 2]) #Blue\n",
        "f.suptitle('Different Channels of Chest X-Ray Image')"
      ]
    },
    {
      "cell_type": "code",
      "source": [
        "print(f'Training Features Tensor Shape: {X_train.shape}')\n",
        "print(f'Validation Features Tensor Shape: {X_valid.shape}')\n",
        "print('\\n')\n",
        "print(f'Training Labels Tensor Shape: {y_train.shape}')\n",
        "print(f'Validation Labels Tensor Shape: {y_valid.shape}')"
      ],
      "metadata": {
        "id": "SxaeQqsaUht8"
      },
      "execution_count": null,
      "outputs": []
    },
    {
      "cell_type": "code",
      "source": [
        "# save data cause to avoid crush\n",
        "'''\n",
        "np.save('X_train.npy', X_train)\n",
        "np.save('y_train.npy', y_train)\n",
        "np.save('X_valid.npy', X_valid)\n",
        "np.save('y_valid.npy', y_valid)\n",
        "'''"
      ],
      "metadata": {
        "id": "GE1FoXlkWH6Z"
      },
      "execution_count": null,
      "outputs": []
    },
    {
      "cell_type": "code",
      "source": [
        "# start here to load data if colab crush\n",
        "'''\n",
        "import numpy as np\n",
        "X_train = np.load('X_train.npy')\n",
        "y_train = np.load('y_train.npy')\n",
        "X_valid = np.load('X_valid.npy')\n",
        "y_valid = np.load('y_valid.npy')\n",
        "'''"
      ],
      "metadata": {
        "id": "FXuU349PWmbJ"
      },
      "execution_count": null,
      "outputs": []
    },
    {
      "cell_type": "markdown",
      "metadata": {
        "id": "jm-WCqPUz79T"
      },
      "source": [
        "---\n",
        "## Section 3: Data Augumentation\n",
        "\n",
        "Data augmentation is a technique used in machine learning to artificially increase the size and diversity of a dataset by generating new data from existing data. Data augmentation provides improvement in the performance of machine learning models by exposing them to a wider range of variations in the data. Data augmentation is commonly used in computer vision applications such as image classification, object detection, and segmentation. \n",
        "\n",
        "For data augumentation we can make use of multiple techniques like Flipping, Rotation, Scaling, Cropping, Translation, Adding Noise to the image, etc. \n",
        "\n",
        "### IMPLEMENTATION\n",
        "For Data Augumentation we will be using `ImageDataGenerator` function provided by `keras` library. In the cell below you have boilerplate code for the initialization of ImageDataGenerator object, while initializing the object, we need to pass in arguments which Augumentation techniques we need to use. \n",
        "\n",
        "**In the code below, we already have two arguments (Augumentation Techniques), you need to provide at least 2 more arguments to Augument the data, you can provide more as you want.** "
      ]
    },
    {
      "cell_type": "code",
      "execution_count": null,
      "metadata": {
        "execution": {
          "iopub.execute_input": "2023-03-12T19:35:51.934680Z",
          "iopub.status.busy": "2023-03-12T19:35:51.933050Z",
          "iopub.status.idle": "2023-03-12T19:35:51.950019Z",
          "shell.execute_reply": "2023-03-12T19:35:51.948906Z",
          "shell.execute_reply.started": "2023-03-12T19:35:51.934637Z"
        },
        "id": "MhR-avWmz79T"
      },
      "outputs": [],
      "source": [
        "from keras.preprocessing.image import ImageDataGenerator\n",
        "# This combination is what we applied to get best result in VGG_16\n",
        "# To be consistent, will use it for all models' data augmentation for comparison\n",
        "datagen = ImageDataGenerator(rescale=1./255, rotation_range=10, width_shift_range=0.1, height_shift_range=0.1 ,brightness_range=(0.95,1.05), zoom_range=0.1)"
      ]
    },
    {
      "cell_type": "markdown",
      "metadata": {
        "id": "8IyiSlXBz79T"
      },
      "source": [
        "Now after initializing the data augumentation object, we need to use this object to visualize the dataset. \n",
        "\n",
        "In the cell below, we will use one single sample image and generate the augumented images. The generator object will augument the sample image and generate different samples of the images by the help of the techniques which we have provided. "
      ]
    },
    {
      "cell_type": "code",
      "execution_count": null,
      "metadata": {
        "execution": {
          "iopub.execute_input": "2023-03-12T19:35:51.953544Z",
          "iopub.status.busy": "2023-03-12T19:35:51.953200Z",
          "iopub.status.idle": "2023-03-12T19:35:54.473173Z",
          "shell.execute_reply": "2023-03-12T19:35:54.472248Z",
          "shell.execute_reply.started": "2023-03-12T19:35:51.953515Z"
        },
        "id": "tOeDHhrwz79T"
      },
      "outputs": [],
      "source": [
        "fig, axes = plt.subplots(4, 4, figsize=(15, 15))\n",
        "\n",
        "temp_batch = datagen.flow(x_train[:1], batch_size=1)\n",
        "\n",
        "index = 0\n",
        "for i in range(4):\n",
        "    for j in range(4):\n",
        "        img = next(temp_batch)[0]\n",
        "        axes[i, j].imshow(img[:,:,0])\n",
        "        index = index +1"
      ]
    },
    {
      "cell_type": "markdown",
      "metadata": {
        "id": "0J1I3vLXz79T"
      },
      "source": [
        "---\n",
        "## Section 4: Develop a CNN to Classify Chest X-Ray (from Scratch)\n",
        "\n",
        "We have completed the Data pre-processing part, now it is the time to start developing the Convolutional Neural Network model. For this project we will be going to work with keras and Tensorflow library to develop and train the CNN model. CNN models have multiple layers that we can use, some of the standard layers that we need to use while working with CNN models are `Convolutinal Layer, Pooling Layer, Dropout Layer, Flatten Layer and Dense Layer`.\n",
        "\n",
        "### IMPLEMENTATION\n",
        "Now in the cell below we will going to define our model architecture. You have been given a boiler plate code with 1 Convolutional Layer and Output Layer of the model. \n",
        "\n",
        "**By using the boilerplate code develop a Convolutional Model architecutre. You need to use Conv2D, Pooling, Dropout and Dense Layers, etc. Please don't change anything in the boilerplate code.**"
      ]
    },
    {
      "cell_type": "code",
      "execution_count": null,
      "metadata": {
        "execution": {
          "iopub.execute_input": "2023-03-12T19:36:18.469883Z",
          "iopub.status.busy": "2023-03-12T19:36:18.469470Z",
          "iopub.status.idle": "2023-03-12T19:36:18.634970Z",
          "shell.execute_reply": "2023-03-12T19:36:18.634125Z",
          "shell.execute_reply.started": "2023-03-12T19:36:18.469846Z"
        },
        "id": "ItyQZX1hz79T"
      },
      "outputs": [],
      "source": [
        "img_size=224\n",
        "# deeper structure with fewer parameter\n",
        "from keras.models import Sequential\n",
        "from keras.layers import Dense, Conv2D, MaxPooling2D, Dropout, Flatten\n",
        "\n",
        "# Building CNN model\n",
        "# Initializing the Model\n",
        "cnn_model = Sequential()\n",
        "\n",
        "# Conv Layer\n",
        "cnn_model.add(Conv2D(filters=16, kernel_size=3, padding=\"same\", activation=\"relu\", input_shape=(img_size, img_size, 3)))\n",
        "# Pooling layer\n",
        "cnn_model.add(MaxPooling2D(pool_size=2))\n",
        "# Dropout layer\n",
        "cnn_model.add(Dropout(0.1))\n",
        "\n",
        "cnn_model.add(Conv2D(filters=32, kernel_size=3, padding=\"same\", activation=\"relu\"))\n",
        "cnn_model.add(MaxPooling2D(pool_size=2))\n",
        "cnn_model.add(Dropout(0.2))\n",
        "\n",
        "cnn_model.add(Conv2D(filters=64, kernel_size=3, padding=\"same\", activation=\"relu\"))\n",
        "cnn_model.add(MaxPooling2D(pool_size=2))\n",
        "cnn_model.add(Dropout(0.2))\n",
        "\n",
        "cnn_model.add(Conv2D(filters=128, kernel_size=3, padding=\"same\", activation=\"relu\"))\n",
        "cnn_model.add(MaxPooling2D(pool_size=2))\n",
        "cnn_model.add(Dropout(0.2))\n",
        "\n",
        "cnn_model.add(Conv2D(filters=256, kernel_size=3, padding=\"same\", activation=\"relu\"))\n",
        "cnn_model.add(MaxPooling2D(pool_size=2))\n",
        "cnn_model.add(Dropout(0.2))\n",
        "\n",
        "cnn_model.add(Conv2D(filters=512, kernel_size=3, padding=\"same\", activation=\"relu\"))\n",
        "cnn_model.add(MaxPooling2D(pool_size=2))\n",
        "cnn_model.add(Dropout(0.2))\n",
        "\n",
        "\n",
        "# Flatten layer\n",
        "cnn_model.add(Flatten())\n",
        "\n",
        "# Dense layers\n",
        "cnn_model.add(Dense(128, activation=\"relu\"))\n",
        "cnn_model.add(Dropout(0.5))\n",
        "cnn_model.add(Dense(64, activation=\"relu\"))\n",
        "cnn_model.add(Dropout(0.5))\n",
        "\n",
        "# Output Layer of the Model\n",
        "cnn_model.add(Dense(2, activation=\"softmax\"))\n",
        "\n",
        "# Model Summary\n",
        "cnn_model.summary()"
      ]
    },
    {
      "cell_type": "markdown",
      "metadata": {
        "id": "ikN1WvBoz79U"
      },
      "source": [
        "The output of the above cell shows the summary of the CNN model. With the help of the model summary, we can see the trainable parameters, the complexity of the model, we can also check the output data shape for each layer. This is a good way to check the complexity of the model. \n",
        "\n",
        "Now we need to compile the model. While compiling the model we need to provide `loss function`, `optimizer`, and `metrics` which will be used during the training process of the Deep Learning model. There are many different choices of loss functions and optimizers which are avilable and we need to choose the best for our use case. \n",
        "\n",
        "### IMPLEMENTATION\n",
        "In the cell below, **you need to provide the LOSS function and Optimization Function for the CNN Model**.\n",
        "\n",
        "- [Available Loss Functions](https://keras.io/api/losses/probabilistic_losses/)\n",
        "- [Available Optimization Functions](https://keras.io/api/optimizers/)"
      ]
    },
    {
      "cell_type": "code",
      "source": [
        "# best optimizer after tuning and tried different optimizer for this model\n",
        "from keras.optimizers import SGD\n",
        "from keras.callbacks import ReduceLROnPlateau\n",
        "sgd_optimizer = SGD(learning_rate=0.01, momentum=0.9, decay=4e-5)"
      ],
      "metadata": {
        "id": "Xs0qMP4GXhNl"
      },
      "execution_count": null,
      "outputs": []
    },
    {
      "cell_type": "code",
      "execution_count": null,
      "metadata": {
        "execution": {
          "iopub.execute_input": "2023-03-12T19:36:21.343901Z",
          "iopub.status.busy": "2023-03-12T19:36:21.343506Z",
          "iopub.status.idle": "2023-03-12T19:36:21.362259Z",
          "shell.execute_reply": "2023-03-12T19:36:21.361297Z",
          "shell.execute_reply.started": "2023-03-12T19:36:21.343865Z"
        },
        "id": "1XmkJEo1z79U"
      },
      "outputs": [],
      "source": [
        "cnn_model.compile(loss=\"binary_crossentropy\", optimizer=sgd_optimizer, metrics=[\"accuracy\"])"
      ]
    },
    {
      "cell_type": "markdown",
      "metadata": {
        "id": "F6XzuxQ5z79U"
      },
      "source": [
        "### IMPLEMENTATION\n",
        "\n",
        "Now in the cell below we will be going to train our Convolutional Neural Network Model. For the training of the CNN model, **you need to provide a `Batch size` and `Number of Epochs`**. And after that you can run this cell to start the training process of the model."
      ]
    },
    {
      "cell_type": "code",
      "source": [
        "from keras.callbacks import ModelCheckpoint\n",
        "checkpoint = ModelCheckpoint(\"best_cnn_model.h5\", monitor=\"val_accuracy\", save_best_only=True, mode=\"max\", verbose=1, save_freq='epoch')"
      ],
      "metadata": {
        "id": "Q3H2ND-IYFnW"
      },
      "execution_count": null,
      "outputs": []
    },
    {
      "cell_type": "code",
      "execution_count": null,
      "metadata": {
        "execution": {
          "iopub.execute_input": "2023-03-12T19:50:18.990017Z",
          "iopub.status.busy": "2023-03-12T19:50:18.989062Z",
          "iopub.status.idle": "2023-03-12T19:58:29.792311Z",
          "shell.execute_reply": "2023-03-12T19:58:29.791162Z",
          "shell.execute_reply.started": "2023-03-12T19:50:18.989963Z"
        },
        "id": "gWlbJaAyz79U"
      },
      "outputs": [],
      "source": [
        "Epochs = 20\n",
        "BATCH_SIZE = 20\n",
        "\n",
        "cnn_model_history = cnn_model.fit(datagen.flow(x_train, y_train, batch_size=BATCH_SIZE),\\\n",
        "                                validation_data=(x_valid, y_valid), epochs=Epochs,\\\n",
        "                                verbose=1, shuffle=True, callbacks=[checkpoint])"
      ]
    },
    {
      "cell_type": "markdown",
      "metadata": {
        "id": "Y4EW4pK-z79U"
      },
      "source": [
        "#### Evaluating the Trained Model\n",
        "After training the Model, it is a good paractice to evaluate the model on Training Dataset to get the final Training Accuracy and Loss of the Model. By running the cell below you will be able to find out the training accuracy and loss of the CNN model. "
      ]
    },
    {
      "cell_type": "code",
      "source": [
        "# load best model weights\n",
        "cnn_model.load_weights(\"best_cnn_model.h5\")\n",
        "# evaluate the model\n",
        "training_score = cnn_model.evaluate(X_train, y_train)\n",
        "print(\"\\nTraining Accuracy:\", round((training_score[1] * 100), 3),\"%\")\n",
        "print(\"Training Loss:\", training_score[0])"
      ],
      "metadata": {
        "id": "MIa9N6CoYSfe"
      },
      "execution_count": null,
      "outputs": []
    },
    {
      "cell_type": "code",
      "source": [
        "validation_score = cnn_model.evaluate(X_valid, y_valid)\n",
        "print(\"\\nvalidation Accuracy:\", round((validation_score[1] * 100), 3),\"%\")\n",
        "print(\"validation Loss:\", validation_score[0])"
      ],
      "metadata": {
        "id": "BsMeUv__Yd_K"
      },
      "execution_count": null,
      "outputs": []
    },
    {
      "cell_type": "code",
      "source": [
        "from sklearn.metrics import confusion_matrix\n",
        "import numpy as np\n",
        "y_pred_probs = cnn_model.predict(X_train)\n",
        "y_pred_labels = np.argmax(y_pred_probs, axis=1)\n",
        "y_true_labels = np.argmax(y_train, axis=1)\n",
        "cm = confusion_matrix(y_true_labels, y_pred_labels)\n",
        "print(\"Confusion Matrix:\")\n",
        "print(cm)"
      ],
      "metadata": {
        "id": "R_TTHjIXYZzu"
      },
      "execution_count": null,
      "outputs": []
    },
    {
      "cell_type": "markdown",
      "metadata": {
        "id": "RcCodkepz79U"
      },
      "source": [
        "---\n",
        "## Section 5: Develop a CNN to Classify Chest X-Ray (using Transfer Learning)\n",
        "\n",
        "**For better warp up. We showed by models. One part included both model information, complie, and implementation, and evaluation.**\n",
        "\n",
        "Now in this section we will be using pre-trained CNN model and train it using Transfer Learning Techniques. Transfer learning is a powerfull technique by which we can make use of complex and large pre-trained models and improve those models on our datasets. We have many different pre-trained CNN models available, you can access the list of all pre-trainned models in Keras Document, [link to pre-trained models](https://keras.io/api/applications/). \n",
        "\n",
        "There are different types of Transfer Learning techniques available, for this project we will be using `Fine Tuning` approach. Fine-tuning in transfer learning is a technique which is used to adapt a pre-trained model to a new dataset. This involves taking a pre-trained model that has been trained on a large dataset, and then improving it for a different dataset. The idea is that the model has already learned some general features and patterns from the original dataset, and these can be useful for the new dataset.\n",
        "\n",
        "The First step to implement the Fine Tuning approach is to initialize a pre-trained model. **From the list of all available pre-trained models, choose a model according to your choice and initialize it in the cell given below**."
      ]
    },
    {
      "cell_type": "markdown",
      "metadata": {
        "id": "gv12OvDnz79U"
      },
      "source": [
        "Now in the second step of Fine Tuning, we need to add some `Dense` layers to the model. As you can see in the cell above, we have explicitly turned off the training of all the layers inside the pre-trainned model because we don't want the pre-trained model to be trained we just want to add some layers at the end of the model and then we will going to train those layers.\n",
        "\n",
        "In the cell below, you have given a boilerplate code, the loaded pre-trained model has been attached to the CNN architecture and also the output layer of the model is initialized. **You need to add some more Dense, Dropout Layers in the CNN model architecture**."
      ]
    },
    {
      "cell_type": "markdown",
      "metadata": {
        "id": "_1ofroJ3z79V"
      },
      "source": [
        "In the Model Summary we can see that, the total number of parameters are much more higher than the trainable parameters. This is the best part of fine-tuning a CNN model, because we will use a pre-trained model and adapt it on our dataset even if we have less resources to train a large complex model.\n",
        "\n",
        "Now we need to compile the model. While compiling the model we need to provide `loss function`, `optimizer`, and `metrics` which will be used during the training process of the Deep Learning model. There are many different choices of loss functions and optimizers which are avilable and we need to choose the best for our use case. \n",
        "\n",
        "In the cell below, **you need to provide the LOSS function and Optimization Function for the CNN Model**.\n",
        "\n",
        "- [Available Loss Functions](https://keras.io/api/losses/probabilistic_losses/)\n",
        "- [Available Optimization Functions](https://keras.io/api/optimizers/)"
      ]
    },
    {
      "cell_type": "markdown",
      "metadata": {
        "id": "Wedvh5wtz79V"
      },
      "source": [
        "\n",
        "Now in the cell below we will be going to train the Convolutional Neural Network Model. As we have trained the CNN model previously, it will going to be the same steps. **Provide the code for training the CNN Model, and train the model on same number of Epochs as the previous CNN model**."
      ]
    },
    {
      "cell_type": "markdown",
      "metadata": {
        "id": "CcE9MWcJz79V"
      },
      "source": [
        "#### Evaluating the Trained Model\n",
        "After training the Model, it is a good paractice to evaluate the model on Training Dataset to get the final Training Accuracy and Loss of the Model. By running the cell below you will be able to find out the training accuracy and loss of the CNN model which is trained by transfer learning. "
      ]
    },
    {
      "cell_type": "markdown",
      "source": [
        "### ResNet50\n",
        "ResNet50"
      ],
      "metadata": {
        "id": "qISNtKcsZfXN"
      }
    },
    {
      "cell_type": "code",
      "execution_count": null,
      "metadata": {
        "execution": {
          "iopub.execute_input": "2023-03-12T19:35:54.475141Z",
          "iopub.status.busy": "2023-03-12T19:35:54.474547Z",
          "iopub.status.idle": "2023-03-12T19:35:58.815564Z",
          "shell.execute_reply": "2023-03-12T19:35:58.814535Z",
          "shell.execute_reply.started": "2023-03-12T19:35:54.475103Z"
        },
        "id": "LsAwV09Bz79U"
      },
      "outputs": [],
      "source": [
        "import tensorflow\n",
        "from tensorflow import keras\n",
        "\n",
        "from tensorflow.keras.applications import ResNet50\n",
        "res_pretrained_model = ResNet50(include_top = False, weights ='imagenet', input_shape = (224,224,3))\n",
        "for layer in res_pretrained_model.layers:\n",
        "        layer.trainable=False"
      ]
    },
    {
      "cell_type": "markdown",
      "source": [
        "### InceptionV3\n",
        "InceptionV3"
      ],
      "metadata": {
        "id": "3q7hsTrrZwIa"
      }
    },
    {
      "cell_type": "code",
      "source": [
        "from tensorflow.keras.applications import InceptionV3\n",
        "inc_pretrained_model = InceptionV3(include_top = False, weights ='imagenet', input_shape = (224,224,3))\n",
        "for layer in inc_pretrained_model.layers:\n",
        "        layer.trainable=False"
      ],
      "metadata": {
        "id": "iNTgqrHQaJMa"
      },
      "execution_count": null,
      "outputs": []
    },
    {
      "cell_type": "code",
      "source": [
        "#INCEPTION\n",
        "from keras.layers import Dense, Conv2D, MaxPooling2D, Dropout, Flatten\n",
        "from keras.models import Sequential\n",
        "inc_transfer_model = Sequential()     \n",
        "inc_transfer_model.add(inc_pretrained_model)\n",
        "\n",
        "# Hint: Add a pooling layer to reduce the input size to dense layer.\n",
        "inc_transfer_model.add(tf.keras.layers.GlobalAveragePooling2D())\n",
        "\n",
        "#TODO: Add some Dense, Dropout Layers\n",
        "inc_transfer_model.add(tf.keras.layers.Dense(64, activation='relu'))\n",
        "inc_transfer_model.add(tf.keras.layers.Dropout(0.5))\n",
        "inc_transfer_model.add(tf.keras.layers.Dense(64, activation='relu'))\n",
        "inc_transfer_model.add(tf.keras.layers.Dropout(0.4))\n",
        "inc_transfer_model.add(tf.keras.layers.Dense(32, activation='relu'))\n",
        "inc_transfer_model.add(tf.keras.layers.Dropout(0.3))\n",
        "\n",
        "# Hint: Keep your size of Dense layer small (i.e. number of units in the dense layers. You may find colab crashing if you have too many params.)\n",
        "# Output Layer of the Model\n",
        "inc_transfer_model.add(Dense(2, activation='softmax'))\n",
        "inc_transfer_model.summary()"
      ],
      "metadata": {
        "id": "SpapkMk3g3ym"
      },
      "execution_count": null,
      "outputs": []
    },
    {
      "cell_type": "code",
      "source": [
        "inc_transfer_model.compile(optimizer=SGD(learning_rate = 0.01), loss='binary_crossentropy', metrics=['accuracy'])"
      ],
      "metadata": {
        "id": "RT7vtpy-g6ZZ"
      },
      "execution_count": null,
      "outputs": []
    },
    {
      "cell_type": "code",
      "source": [
        "from keras.callbacks import ModelCheckpoint, EarlyStopping\n",
        "checkpoint = ModelCheckpoint(\"best_inc_model.h5\", monitor=\"val_accuracy\", save_best_only=True, mode=\"max\", verbose=1, save_freq='epoch')\n",
        "early_stop = EarlyStopping(monitor='val_accuracy', patience=5)"
      ],
      "metadata": {
        "id": "EUwaD-UIhCUC"
      },
      "execution_count": null,
      "outputs": []
    },
    {
      "cell_type": "code",
      "source": [
        "#TODO: You need to provide the Batch Size, Number of Epochs will be the same as before\n",
        "BATCH_SIZE = 20\n",
        "\n",
        "inc_transfer_model_history = inc_transfer_model.fit(datagen.flow(X_train, y_train, batch_size=BATCH_SIZE),\\\n",
        "                                            validation_data=(X_valid, y_valid), epochs=Epochs,\\\n",
        "                                            verbose=1, shuffle=True, callbacks=[checkpoint, early_stop])"
      ],
      "metadata": {
        "id": "FX8tcJB8hGyO"
      },
      "execution_count": null,
      "outputs": []
    },
    {
      "cell_type": "code",
      "source": [],
      "metadata": {
        "id": "5TZHOGXvhOJA"
      },
      "execution_count": null,
      "outputs": []
    },
    {
      "cell_type": "markdown",
      "source": [
        "### DenseNet201\n",
        "DenseNet201"
      ],
      "metadata": {
        "id": "f3O6at1fZywj"
      }
    },
    {
      "cell_type": "code",
      "source": [
        "from tensorflow.keras.applications import DenseNet201\n",
        "den_pretrained_model = DenseNet201(include_top = False, weights ='imagenet',  input_shape = (224,224,3))\n",
        "for layer in den_pretrained_model.layers:\n",
        "        layer.trainable=False"
      ],
      "metadata": {
        "id": "6cjorlsUaIwn"
      },
      "execution_count": null,
      "outputs": []
    },
    {
      "cell_type": "code",
      "source": [
        "# DenseNet\n",
        "# We thought we did chexnet, but actually it is not reproducible\n",
        "# chexnet is based on densenet\n",
        "import numpy as np\n",
        "from keras.preprocessing.image import ImageDataGenerator\n",
        "from keras.applications import densenet\n",
        "from keras.models import Model\n",
        "from keras.layers import Dense, GlobalAveragePooling2D, Dropout\n",
        "from keras.optimizers import Adam\n",
        "from keras.callbacks import ModelCheckpoint, ReduceLROnPlateau\n",
        "base_model = densenet.DenseNet121(include_top=False, weights='imagenet', input_shape=(img_size, img_size, 3))\n",
        "x = base_model.output\n",
        "x = GlobalAveragePooling2D()(x)\n",
        "x = Dense(512, activation='relu')(x)\n",
        "x = Dropout(0.5)(x)\n",
        "\n",
        "predictions = Dense(2, activation='softmax')(x)\n",
        "\n",
        "# Create the final model\n",
        "chexnet_model = Model(inputs=base_model.input, outputs=predictions)\n",
        "for layer in base_model.layers:\n",
        "    layer.trainable = False"
      ],
      "metadata": {
        "id": "4M0Bg2vwfCAB"
      },
      "execution_count": null,
      "outputs": []
    },
    {
      "cell_type": "code",
      "source": [
        "densenet_model.compile(optimizer=Adam(), loss='binary_crossentropy', metrics=['accuracy'])"
      ],
      "metadata": {
        "id": "bq2MsC1zfgMr"
      },
      "execution_count": null,
      "outputs": []
    },
    {
      "cell_type": "code",
      "source": [
        "checkpoint = ModelCheckpoint(\"best_densenet_model.h5\", monitor=\"val_accuracy\", save_best_only=True, save_weights_only = True, mode=\"max\", verbose=1)"
      ],
      "metadata": {
        "id": "fKLePCNrfikM"
      },
      "execution_count": null,
      "outputs": []
    },
    {
      "cell_type": "code",
      "source": [
        "densenet_model_history = chexnet_model.fit(datagen.flow(X_train, y_train, batch_size=20),\n",
        "                                          validation_data=(X_valid, y_valid), epochs=10,\n",
        "                                          verbose=1, shuffle=True, callbacks=[checkpoint])\n"
      ],
      "metadata": {
        "id": "2E1KslVsflnQ"
      },
      "execution_count": null,
      "outputs": []
    },
    {
      "cell_type": "code",
      "source": [
        "densenet_model.load_weights(\"best_densenet_model.h5\")"
      ],
      "metadata": {
        "id": "Vk0PuJGdfpBz"
      },
      "execution_count": null,
      "outputs": []
    },
    {
      "cell_type": "code",
      "source": [
        "training_score = densenet_model.evaluate(X_train.astype(\"float32\")/255.0, y_train)\n",
        "print(\"\\nTraining Accuracy:\", round((training_score[1] * 100), 3), \"%\")\n",
        "print(\"Training Loss:\", training_score[0])"
      ],
      "metadata": {
        "id": "zsJkL7NofyMb"
      },
      "execution_count": null,
      "outputs": []
    },
    {
      "cell_type": "code",
      "source": [
        "from sklearn.metrics import confusion_matrix\n",
        "import numpy as np\n",
        "y_pred_probs = densenet_model.predict(X_train.astype(\"float32\")/255.0)\n",
        "y_pred_labels = np.argmax(y_pred_probs, axis=1)\n",
        "y_true_labels = np.argmax(y_train, axis=1)\n",
        "cm = confusion_matrix(y_true_labels, y_pred_labels)\n",
        "print(\"Confusion Matrix:\")\n",
        "print(cm)"
      ],
      "metadata": {
        "id": "7DhDaf7Ef4Ip"
      },
      "execution_count": null,
      "outputs": []
    },
    {
      "cell_type": "markdown",
      "source": [
        "\n",
        "### EfficientNetV2S\n",
        "EfficientNetV2S"
      ],
      "metadata": {
        "id": "I1h1fodcZ3Ql"
      }
    },
    {
      "cell_type": "code",
      "source": [
        "from tensorflow.keras.applications import EfficientNetV2S\n",
        "eff_pretrained_model = EfficientNetV2S(include_top = False, weights ='imagenet',  input_shape = (224,224,3))\n",
        "\n",
        "for i, layer in enumerate(eff_pretrained_model.layers):\n",
        "    if i < len(eff_pretrained_model.layers) - 2:\n",
        "        layer.trainable = False\n",
        "    else:\n",
        "        layer.trainable = True\n",
        "#EFFICIENTNET\n",
        "from keras.models import Sequential\n",
        "from keras.layers import Dense, Conv2D, MaxPooling2D, Dropout, Flatten\n",
        "eff_transfer_model = Sequential()     \n",
        "eff_transfer_model.add(eff_pretrained_model)\n",
        "eff_transfer_model.add(Flatten())\n",
        "# Hint: Add a pooling layer to reduce the input size to dense layer.\n",
        "\n",
        "#TODO: Add some Dense, Dropout Layers\n",
        "eff_transfer_model.add(Dense(128, activation='relu'))\n",
        "eff_transfer_model.add(Dropout(0.3))\n",
        "eff_transfer_model.add(Dense(16, activation='relu'))\n",
        "eff_transfer_model.add(Dropout(0.3))\n",
        "# Hint: Keep your size of Dense layer small (i.e. number of units in the dense layers. You may find colab crashing if you have too many params.)\n",
        "# Output Layer of the Model\n",
        "eff_transfer_model.add(Dense(2, activation='softmax'))\n",
        "eff_transfer_model.summary()"
      ],
      "metadata": {
        "id": "qQJ-58R-aITn"
      },
      "execution_count": null,
      "outputs": []
    },
    {
      "cell_type": "code",
      "source": [
        "import numpy as np\n",
        "from keras.preprocessing.image import ImageDataGenerator\n",
        "from keras.models import Model\n",
        "from keras.optimizers import Adam\n",
        "eff_transfer_model.compile(optimizer=Adam(), loss='binary_crossentropy', metrics=['accuracy'])"
      ],
      "metadata": {
        "id": "VgETewI6dGlw"
      },
      "execution_count": null,
      "outputs": []
    },
    {
      "cell_type": "code",
      "source": [
        "from keras.callbacks import ModelCheckpoint\n",
        "checkpoint = ModelCheckpoint(\"best_eff_model.h5\", monitor=\"val_accuracy\", save_best_only=True, mode=\"max\", verbose=1, save_freq='epoch')"
      ],
      "metadata": {
        "id": "cyAqFL2DeQbR"
      },
      "execution_count": null,
      "outputs": []
    },
    {
      "cell_type": "code",
      "source": [
        "#TODO: You need to provide the Batch Size, Number of Epochs will be the same as before\n",
        "BATCH_SIZE = 20\n",
        "\n",
        "eff_transfer_model_history = eff_transfer_model.fit(datagen.flow(X_train, y_train, batch_size=BATCH_SIZE),\\\n",
        "                                            validation_data=(X_valid, y_valid), epochs=20,\\\n",
        "                                            verbose=1, shuffle=True, callbacks=[checkpoint])"
      ],
      "metadata": {
        "id": "Mo2pcReVePG1"
      },
      "execution_count": null,
      "outputs": []
    },
    {
      "cell_type": "code",
      "source": [
        "eff_transfer_model.load_weights(\"best_eff_model.h5\")\n",
        "training_score = eff_transfer_model.evaluate(X_train, y_train)\n",
        "print(\"\\nTraining Accuracy:\", round((training_score[1] * 100), 3), \"%\")\n",
        "print(\"Training Loss:\", training_score[0])"
      ],
      "metadata": {
        "id": "apSICS4relEp"
      },
      "execution_count": null,
      "outputs": []
    },
    {
      "cell_type": "code",
      "source": [
        "training_score = eff_transfer_model.evaluate(X_valid, y_valid)\n",
        "print(\"\\nTraining Accuracy:\", round((training_score[1] * 100), 3), \"%\")\n",
        "print(\"Training Loss:\", training_score[0])"
      ],
      "metadata": {
        "id": "hGuqH7ZVelp7"
      },
      "execution_count": null,
      "outputs": []
    },
    {
      "cell_type": "code",
      "source": [
        "from sklearn.metrics import confusion_matrix\n",
        "import numpy as np\n",
        "y_pred_probs = eff_transfer_model.predict(X_train)\n",
        "y_pred_labels = np.argmax(y_pred_probs, axis=1)\n",
        "y_true_labels = np.argmax(y_train, axis=1)\n",
        "cm = confusion_matrix(y_true_labels, y_pred_labels)\n",
        "print(\"Confusion Matrix:\")\n",
        "print(cm)"
      ],
      "metadata": {
        "id": "gjb1qo1kepvv"
      },
      "execution_count": null,
      "outputs": []
    },
    {
      "cell_type": "markdown",
      "source": [
        "### VGG16\n",
        "VGG16"
      ],
      "metadata": {
        "id": "NNL5Zq0TaCGB"
      }
    },
    {
      "cell_type": "code",
      "execution_count": null,
      "metadata": {
        "execution": {
          "iopub.execute_input": "2023-03-12T19:36:25.237683Z",
          "iopub.status.busy": "2023-03-12T19:36:25.236650Z",
          "iopub.status.idle": "2023-03-12T19:36:25.696108Z",
          "shell.execute_reply": "2023-03-12T19:36:25.695058Z",
          "shell.execute_reply.started": "2023-03-12T19:36:25.237646Z"
        },
        "id": "WR8fXsR9z79U"
      },
      "outputs": [],
      "source": [
        "from keras.models import Model\n",
        "from keras.layers import Dense, GlobalAveragePooling2D, Dropout\n",
        "from keras.applications import VGG16\n",
        "\n",
        "# Load VGG16 base model without the top classification layer\n",
        "vgg_model = VGG16(weights='imagenet', include_top=False, input_shape=(300, 300, 3))\n",
        "\n",
        "# Freeze all layers except for the last 4\n",
        "for i, layer in enumerate(vgg_model.layers):\n",
        "    if i < len(vgg_model.layers) - 3:\n",
        "        layer.trainable = False\n",
        "    else:\n",
        "        layer.trainable = True\n",
        "\n",
        "# Add custom layers\n",
        "x = vgg_model.output\n",
        "x = GlobalAveragePooling2D()(x)  # Add a global average pooling layer\n",
        "x = Dense(512, activation='relu')(x)  # Add a fully connected layer with 512 units\n",
        "x = Dropout(0.5)(x)  # Add dropout to prevent overfitting\n",
        "\n",
        "predictions = Dense(2, activation='softmax')(x)  # Add the final classification layer\n",
        "\n",
        "# Create the final model\n",
        "vgg_transfer_model = Model(inputs=vgg_model.input, outputs=predictions)\n",
        "\n",
        "# Compile the model\n",
        "vgg_transfer_model.compile(optimizer='adam', loss='binary_crossentropy', metrics=['accuracy'])\n",
        "\n",
        "vgg_transfer_model.summary()\n"
      ]
    },
    {
      "cell_type": "code",
      "source": [
        "from keras.callbacks import ModelCheckpoint\n",
        "checkpoint = ModelCheckpoint(\"best_VGG_model.h5\", monitor=\"val_accuracy\", save_best_only=True, mode=\"max\", verbose=1, save_freq='epoch')"
      ],
      "metadata": {
        "id": "qIaazDAjdQ1m"
      },
      "execution_count": null,
      "outputs": []
    },
    {
      "cell_type": "code",
      "source": [
        "#TODO: You need to provide the Batch Size, Number of Epochs will be the same as before\n",
        "BATCH_SIZE = 20\n",
        "\n",
        "vgg_transfer_model_history = vgg_transfer_model.fit(datagen.flow(X_train, y_train, batch_size=BATCH_SIZE),\\\n",
        "                                            validation_data=(X_valid, y_valid), epochs=20,\\\n",
        "                                            verbose=1, shuffle=True, callbacks=[checkpoint])"
      ],
      "metadata": {
        "id": "Lb3tmAAkdQzT"
      },
      "execution_count": null,
      "outputs": []
    },
    {
      "cell_type": "code",
      "source": [
        "vgg_transfer_model.load_weights(\"best_model.h5\")"
      ],
      "metadata": {
        "id": "QQCZXKzmdQxD"
      },
      "execution_count": null,
      "outputs": []
    },
    {
      "cell_type": "code",
      "source": [
        "# save weights\n",
        "import os\n",
        "\n",
        "# Replace 'My_Models' with the name of the folder where you want to save the weights\n",
        "folder_path = \"/content/drive/My Drive/My_Models2\"\n",
        "\n",
        "# Create the folder if it doesn't exist\n",
        "if not os.path.exists(folder_path):\n",
        "    os.makedirs(folder_path)\n",
        "# Replace 'best_model_weights.h5' with the desired name for your weights file\n",
        "# Replace 'best_model_weights.h5' with the desired name for your weights file\n",
        "weights_file_path = os.path.join(folder_path, 'best_VGG_mode.h5')\n",
        "\n",
        "# Save the weights\n",
        "vgg_transfer_model.save_weights(weights_file_path)"
      ],
      "metadata": {
        "id": "-cu03IHDdQuL"
      },
      "execution_count": null,
      "outputs": []
    },
    {
      "cell_type": "code",
      "source": [],
      "metadata": {
        "id": "vBhuGvwgd_cl"
      },
      "execution_count": null,
      "outputs": []
    },
    {
      "cell_type": "code",
      "source": [
        "#vgg_transfer_model.load_weights(\"best_model_epoch_06.h5\")\n",
        "training_score = vgg_transfer_model.evaluate(X_train.astype(\"float32\")/255.0, y_train)\n",
        "print(\"\\nTraining Accuracy:\", round((training_score[1] * 100), 3), \"%\")\n",
        "print(\"Training Loss:\", training_score[0])"
      ],
      "metadata": {
        "id": "A0mf3kgTdQj8"
      },
      "execution_count": null,
      "outputs": []
    },
    {
      "cell_type": "code",
      "source": [
        "training_score = vgg_transfer_model.evaluate(X_valid, y_valid)\n",
        "print(\"\\nTraining Accuracy:\", round((training_score[1] * 100), 3), \"%\")\n",
        "print(\"Training Loss:\", training_score[0])"
      ],
      "metadata": {
        "id": "j8hXMIt0d2P5"
      },
      "execution_count": null,
      "outputs": []
    },
    {
      "cell_type": "code",
      "source": [
        "from sklearn.metrics import confusion_matrix\n",
        "import numpy as np\n",
        "y_pred_probs = vgg_transfer_model.predict(X_train.astype(\"float32\")/255.0)\n",
        "y_pred_labels = np.argmax(y_pred_probs, axis=1)\n",
        "y_true_labels = np.argmax(y_train, axis=1)\n",
        "cm = confusion_matrix(y_true_labels, y_pred_labels)\n",
        "print(\"Confusion Matrix:\")\n",
        "print(cm)"
      ],
      "metadata": {
        "id": "AiFmCNS0d385"
      },
      "execution_count": null,
      "outputs": []
    },
    {
      "cell_type": "code",
      "source": [
        "from sklearn.metrics import confusion_matrix\n",
        "import numpy as np\n",
        "y_pred_probs = vgg_transfer_model.predict(X_train.astype(\"float32\")/255.0)\n",
        "y_pred_labels = np.argmax(y_pred_probs, axis=1)\n",
        "y_true_labels = np.argmax(y_train, axis=1)\n",
        "\n",
        "cm = confusion_matrix(y_true_labels, y_pred_labels)\n",
        "\n",
        "# Print confusion matrix with row and column names\n",
        "print(\"Confusion Matrix:\")\n",
        "print(\"                   Predicted Class\")\n",
        "print(\"                   ---------------\")\n",
        "print(\"                       |  Normal  |  Pneumonia  |\")\n",
        "print(\"                   ---------------\")\n",
        "print(\"True Class | Normal.   | {:5d}    | {:5d} |\".format(cm[0][0], cm[0][1]))\n",
        "print(\"           | Pneumonia | {:5d}    | {:5d} |\".format(cm[1][0], cm[1][1]))\n",
        "print(\"                   ---------------\")\n"
      ],
      "metadata": {
        "id": "bhitGwEkgPRi"
      },
      "execution_count": null,
      "outputs": []
    },
    {
      "cell_type": "code",
      "source": [
        "# Download predication table\n",
        "img_size = 350\n",
        "def load_data(data_dir):\n",
        "    data = [] \n",
        "    path = data_dir\n",
        "    for img in os.listdir(path):\n",
        "            try:\n",
        "                img_arr = cv2.imread(os.path.join(path, img), cv2.IMREAD_COLOR)\n",
        "                resized_arr = cv2.resize(img_arr, (img_size, img_size)) # Reshaping images to preferred size\n",
        "                data.append([resized_arr, img])\n",
        "            except Exception as e:\n",
        "                print(e)\n",
        "    return np.array(data)\n",
        "\n",
        "test_data = load_data(os.path.join(DATASET_PATH, 'test'))\n",
        "\n",
        "# print number of images in each dataset\n",
        "print(f'There are {len(test_data)} Training Images.')\n",
        "\n",
        "X_test = np.array([x[0] for x in test_data])\n",
        "X_test = X_test.astype(\"float32\")/255.0\n",
        "y_test = np.array([x[1] for x in test_data])\n",
        "\n",
        "print(f'Training Features Tensor Shape: {X_test.shape}')\n",
        "print(f'Training Features Tensor Shape: {y_test.shape}')\n",
        "\n",
        "y_test_prob = vgg_transfer_model.predict(X_test)\n",
        "y_test_pred = np.argmax(y_test_prob, axis=1)\n",
        "\n",
        "results_df = pd.DataFrame({\"ID\":y_test,\"class\": y_test_pred})\n",
        "df = results_df\n",
        "df['class'] = df['class'].map({0: 'NORMAL', 1: 'PNEUMONIA'})\n",
        "\n",
        "df['ID_number'] = df['ID'].str.extract('(\\d+)').astype(int)\n",
        "\n",
        "df_sorted = df.sort_values(by='ID_number')\n",
        "df_sorted.drop('ID_number', axis=1, inplace=True)\n",
        "\n",
        "df_sorted.to_csv(\"predicted_labels.csv\", index=False)\n",
        "\n",
        "from google.colab import files\n",
        "\n",
        "files.download(\"predicted_labels.csv\")\n"
      ],
      "metadata": {
        "id": "ra2WWqbvd36S"
      },
      "execution_count": null,
      "outputs": []
    },
    {
      "cell_type": "code",
      "source": [],
      "metadata": {
        "id": "2KEiXFA1d34C"
      },
      "execution_count": null,
      "outputs": []
    },
    {
      "cell_type": "code",
      "source": [],
      "metadata": {
        "id": "P-fVZJLNd31k"
      },
      "execution_count": null,
      "outputs": []
    },
    {
      "cell_type": "code",
      "source": [],
      "metadata": {
        "id": "KYId4OO9d3zG"
      },
      "execution_count": null,
      "outputs": []
    },
    {
      "cell_type": "code",
      "source": [],
      "metadata": {
        "id": "xlhnDF9Yd3wp"
      },
      "execution_count": null,
      "outputs": []
    },
    {
      "cell_type": "code",
      "source": [],
      "metadata": {
        "id": "RmpPkb02d3la"
      },
      "execution_count": null,
      "outputs": []
    },
    {
      "cell_type": "code",
      "execution_count": null,
      "metadata": {
        "execution": {
          "iopub.execute_input": "2023-03-12T19:36:54.334230Z",
          "iopub.status.busy": "2023-03-12T19:36:54.333277Z",
          "iopub.status.idle": "2023-03-12T19:36:54.349966Z",
          "shell.execute_reply": "2023-03-12T19:36:54.348751Z",
          "shell.execute_reply.started": "2023-03-12T19:36:54.334172Z"
        },
        "id": "n02YLRG1z79V"
      },
      "outputs": [],
      "source": [
        "#TODO: Provide Loss and Optimizer functions\n",
        "transfer_model.compile(optimizer=None, loss=None, metrics=['accuracy'])"
      ]
    },
    {
      "cell_type": "code",
      "execution_count": null,
      "metadata": {
        "execution": {
          "iopub.execute_input": "2023-03-12T19:37:37.053839Z",
          "iopub.status.busy": "2023-03-12T19:37:37.053422Z",
          "iopub.status.idle": "2023-03-12T19:46:59.757797Z",
          "shell.execute_reply": "2023-03-12T19:46:59.756745Z",
          "shell.execute_reply.started": "2023-03-12T19:37:37.053797Z"
        },
        "id": "4x-Ph79Qz79V"
      },
      "outputs": [],
      "source": [
        "#TODO: You need to provide the Batch Size, Number of Epochs will be the same as before\n",
        "BATCH_SIZE = None\n",
        "\n",
        "transfer_model_history = transfer_model.fit(datagen.flow(x_train, y_train, batch_size=BATCH_SIZE),\\\n",
        "                                            validation_data=(x_valid, y_valid), epochs=Epochs,\\\n",
        "                                            verbose=1, shuffle=True)"
      ]
    },
    {
      "cell_type": "code",
      "execution_count": null,
      "metadata": {
        "execution": {
          "iopub.execute_input": "2023-03-12T19:47:17.523482Z",
          "iopub.status.busy": "2023-03-12T19:47:17.522833Z",
          "iopub.status.idle": "2023-03-12T19:47:23.903313Z",
          "shell.execute_reply": "2023-03-12T19:47:23.901886Z",
          "shell.execute_reply.started": "2023-03-12T19:47:17.523432Z"
        },
        "id": "nhc32hQ1z79V"
      },
      "outputs": [],
      "source": [
        "transfer_model_score = transfer_model.evaluate(x_train, y_train)\n",
        "\n",
        "print(\"\\nTraining Accuracy:\", round((transfer_model_score[1] * 100), 3),\"%\")\n",
        "print(\"Training Loss:\", transfer_model_score[0])"
      ]
    },
    {
      "cell_type": "markdown",
      "metadata": {
        "id": "9LUPfsasz79V"
      },
      "source": [
        "---\n",
        "## Section 6: Comparison of CNN Models\n",
        "\n",
        "### Visualizing Model Loss And Accuracy\n",
        "\n",
        "We have successfully trained both CNN models and now it's time to compare the accuracy and loss of both models to know which one is the best one. While training the models, we can see that we have used **cnn_model_history variable** and **transfer_model_history variable**, these variable are used to store the accuracy and loss of the model for all Epochs. These variable holds the data in the form of python dictionary.\n",
        "\n",
        "### IMPLEMENTATION\n",
        "**By using the `cnn_model_history` and `transfer_model_history` variables and matplotlib library plot the Accuracy and Loss graphs of the models. You need to plot Accuracy and Loss graphs having Training and Validation data for both models.**"
      ]
    },
    {
      "cell_type": "code",
      "execution_count": null,
      "metadata": {
        "execution": {
          "iopub.execute_input": "2023-03-12T20:00:32.890573Z",
          "iopub.status.busy": "2023-03-12T20:00:32.889444Z",
          "iopub.status.idle": "2023-03-12T20:00:33.183055Z",
          "shell.execute_reply": "2023-03-12T20:00:33.182012Z",
          "shell.execute_reply.started": "2023-03-12T20:00:32.890527Z"
        },
        "id": "C9Th_gBAz79V"
      },
      "outputs": [],
      "source": [
        "#TODO: Plot the Accuracy Graph"
      ]
    },
    {
      "cell_type": "code",
      "execution_count": null,
      "metadata": {
        "execution": {
          "iopub.execute_input": "2023-03-12T20:01:36.168718Z",
          "iopub.status.busy": "2023-03-12T20:01:36.168296Z",
          "iopub.status.idle": "2023-03-12T20:01:36.436584Z",
          "shell.execute_reply": "2023-03-12T20:01:36.435389Z",
          "shell.execute_reply.started": "2023-03-12T20:01:36.168666Z"
        },
        "id": "Oz19ZBmIz79V"
      },
      "outputs": [],
      "source": [
        "#TODO: Plot the Loss Graph"
      ]
    },
    {
      "cell_type": "markdown",
      "metadata": {
        "id": "BoUmQgffz79V"
      },
      "source": [
        "---\n",
        "## Section 7: Testing the best CNN Model\n",
        "\n",
        "Now in this last section of the Notebook, we will test the best CNN model.\n",
        "\n",
        "#### IMPLEMENTATION\n",
        "**Load the testing set in the cell below.**"
      ]
    },
    {
      "cell_type": "code",
      "execution_count": null,
      "metadata": {
        "execution": {
          "iopub.execute_input": "2023-03-12T20:03:13.268522Z",
          "iopub.status.busy": "2023-03-12T20:03:13.268117Z",
          "iopub.status.idle": "2023-03-12T20:03:22.958488Z",
          "shell.execute_reply": "2023-03-12T20:03:22.957392Z",
          "shell.execute_reply.started": "2023-03-12T20:03:13.268486Z"
        },
        "id": "dGNesuEbz79W"
      },
      "outputs": [],
      "source": [
        "# TODO: Load the Testing Dataset\n",
        "test_data = None\n",
        "\n",
        "# print number of images in testing dataset\n",
        "print(f'There are {len(test_data)} Testing Images.')"
      ]
    },
    {
      "cell_type": "markdown",
      "metadata": {
        "id": "7hufQ9ZAz79W"
      },
      "source": [
        "### IMPLEMENTATION\n",
        "**Split the Features and Labels of the Testing Set.**"
      ]
    },
    {
      "cell_type": "code",
      "execution_count": null,
      "metadata": {
        "execution": {
          "iopub.execute_input": "2023-03-12T20:03:22.960885Z",
          "iopub.status.busy": "2023-03-12T20:03:22.960391Z",
          "iopub.status.idle": "2023-03-12T20:03:23.001588Z",
          "shell.execute_reply": "2023-03-12T20:03:23.000223Z",
          "shell.execute_reply.started": "2023-03-12T20:03:22.960835Z"
        },
        "id": "cZodIEyFz79W"
      },
      "outputs": [],
      "source": [
        "# TODO: Split the Features and Labels of Testing Data\n",
        "x_test, y_test = None\n",
        "\n",
        "print(f'Testing Features Tensor Shape: {x_test.shape}')"
      ]
    },
    {
      "cell_type": "markdown",
      "metadata": {
        "id": "Uxnoym3Hz79W"
      },
      "source": [
        "We have loaded and setup the testing dataset, now it's time to use the best model and make the prediction for testing images."
      ]
    },
    {
      "cell_type": "code",
      "execution_count": null,
      "metadata": {
        "execution": {
          "iopub.execute_input": "2023-03-12T20:03:31.130390Z",
          "iopub.status.busy": "2023-03-12T20:03:31.129664Z",
          "iopub.status.idle": "2023-03-12T20:03:32.998447Z",
          "shell.execute_reply": "2023-03-12T20:03:32.997322Z",
          "shell.execute_reply.started": "2023-03-12T20:03:31.130351Z"
        },
        "id": "Zmy7jG5yz79W"
      },
      "outputs": [],
      "source": [
        "predictions = transfer_model.predict(x_test)\n",
        "prediction_labels = np.argmax(predictions, axis=1)\n",
        "# Save as csv. File saved in current directory.\n",
        "np.savetxt(\"prediction_labels.csv\", prediction_labels, delimiter=\",\")"
      ]
    },
    {
      "cell_type": "markdown",
      "metadata": {
        "id": "YHUI-1YIz79W"
      },
      "source": [
        "### Confusion Matrix\n",
        "A confusion matrix is a table used to evaluate the performance of a classification model. It shows the number of correct and incorrect predictions made by the model compared to the actual outcomes. The matrix is usually presented as a square table, with the rows representing the actual class labels and the columns representing the predicted class labels. The confusion matrix provides several useful metrics for evaluating the performance of a classification model, such as accuracy, precision, recall, and F1 score. \n",
        "\n",
        "### IMPLEMENTATION\n",
        "We have original labels and predicted labels, now you need to use **scikit-learn** and **matplotlib** lilbrary to plot the confusion matrix."
      ]
    },
    {
      "cell_type": "markdown",
      "source": [
        "Not required since you won't have access to true labels."
      ],
      "metadata": {
        "id": "35bVkaKyI3sX"
      }
    },
    {
      "cell_type": "code",
      "execution_count": null,
      "metadata": {
        "execution": {
          "iopub.execute_input": "2023-03-12T20:03:36.736614Z",
          "iopub.status.busy": "2023-03-12T20:03:36.735574Z",
          "iopub.status.idle": "2023-03-12T20:03:37.346568Z",
          "shell.execute_reply": "2023-03-12T20:03:37.344378Z",
          "shell.execute_reply.started": "2023-03-12T20:03:36.736575Z"
        },
        "id": "bGv14SRTz79W"
      },
      "outputs": [],
      "source": [
        "# from sklearn.metrics import ConfusionMatrixDisplay, classification_report\n",
        "\n",
        "# Not Required"
      ]
    },
    {
      "cell_type": "markdown",
      "metadata": {
        "id": "tTlBUYxGz79W"
      },
      "source": [
        "### Classification Report\n",
        "\n",
        "A classification report is a summary of the key performance metrics for a classification model. The classification report includes several important metrics, including precision, recall, F1 score, and support. These metrics provide information about the model's ability to correctly identify positive and negative instances, as well as the balance between precision and recall.\n",
        "\n",
        "Please run the cell below to generate the classification report for the Best Performing CNN Model."
      ]
    },
    {
      "cell_type": "code",
      "execution_count": null,
      "metadata": {
        "execution": {
          "iopub.execute_input": "2023-03-12T20:03:41.459189Z",
          "iopub.status.busy": "2023-03-12T20:03:41.458154Z",
          "iopub.status.idle": "2023-03-12T20:03:41.471691Z",
          "shell.execute_reply": "2023-03-12T20:03:41.470448Z",
          "shell.execute_reply.started": "2023-03-12T20:03:41.459137Z"
        },
        "id": "vAc2KcBJz79W"
      },
      "outputs": [],
      "source": [
        "# print(classification_report(y_test, prediction_labels))\n",
        "# Not Required"
      ]
    },
    {
      "cell_type": "markdown",
      "metadata": {
        "id": "wLXvp6agz79W"
      },
      "source": [
        "---\n",
        "## Conclusion\n",
        "\n",
        "In the Notebook, we have learned how we can develop Convolutional Neural Network Models. We have learned how we can develop our own CNN architectures and how we can make use of Transfer Learning Techniques. We have gone through the data preperation part, model development part and finally we have evaluated and tested the CNN Models. "
      ]
    }
  ],
  "metadata": {
    "kernelspec": {
      "display_name": "Python 3 (ipykernel)",
      "language": "python",
      "name": "python3"
    },
    "language_info": {
      "codemirror_mode": {
        "name": "ipython",
        "version": 3
      },
      "file_extension": ".py",
      "mimetype": "text/x-python",
      "name": "python",
      "nbconvert_exporter": "python",
      "pygments_lexer": "ipython3",
      "version": "3.7.14"
    },
    "colab": {
      "provenance": [],
      "collapsed_sections": [
        "I1h1fodcZ3Ql",
        "9LUPfsasz79V",
        "BoUmQgffz79V"
      ]
    }
  },
  "nbformat": 4,
  "nbformat_minor": 0
}